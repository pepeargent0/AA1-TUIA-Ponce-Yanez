{
 "cells": [
  {
   "cell_type": "markdown",
   "id": "6a62f23f-3431-4d69-bd27-d4be202d4c49",
   "metadata": {},
   "source": [
    "## TUIA - Aprendizaje Automático 1\n",
    "\n",
    "### Trabajo Práctico: Predicción de lluvia en Australia.\n",
    "\n",
    "### Integrantes:\n",
    "- Ponce, Daniel\n",
    "- Yañez, Mirian\n",
    "\n"
   ]
  },
  {
   "cell_type": "markdown",
   "id": "4eabeef9-e732-4a21-bd59-f842c1524b46",
   "metadata": {},
   "source": [
    "El presente informe detalla el trabajo práctico llevado a cabo para la predicción de las condiciones climáticas en Australia, centrándonos en las ciudades de Adelaide, Canberra, Cobar, Dartmoor, Melbourne, MelbourneAirport, MountGambier, Sydney y SydneyAirport. \n",
    "\n",
    "El conjunto de datos utilizado se denomina weatherAUS.csv y contiene información climática de los últimos diez años.\n",
    "\n",
    "## Variables de Interés:\n",
    "\n",
    "**RainTomorrow y RainfallTomorrow**: Estas variables representan nuestro objetivo de predicción, indicando si lloverá al día siguiente y la cantidad de lluvia, respectivamente.\n",
    "\n",
    "\"RainTomorrow\" (categórica, para un problema de clasificación)\n",
    "\n",
    "\"RainfallTomorrow\" (continua, para un problema de regresión)."
   ]
  },
  {
   "cell_type": "markdown",
   "id": "0d7a1666-32bc-428d-8346-d2f06da55f01",
   "metadata": {},
   "source": [
    "## Paquetes y Librerias"
   ]
  },
  {
   "cell_type": "code",
   "execution_count": 1,
   "id": "485bc07e-6832-40f1-9d1f-8ef2ebcc32c8",
   "metadata": {},
   "outputs": [],
   "source": [
    "import pandas as pd\n",
    "from sklearn.model_selection import train_test_split\n",
    "from sklearn.preprocessing import StandardScaler\n",
    "from sklearn.impute import SimpleImputer"
   ]
  },
  {
   "cell_type": "markdown",
   "id": "9dfd04e7-45dc-49f8-b05b-0ec0eaa7ffc7",
   "metadata": {},
   "source": [
    "## Importar el dataset"
   ]
  },
  {
   "cell_type": "code",
   "execution_count": 2,
   "id": "f33f6b14-a3dc-47b1-aa75-942e8aaad034",
   "metadata": {},
   "outputs": [],
   "source": [
    "file_path= 'weatherAUS.csv'\n",
    "df = pd.read_csv(file_path, sep=',')"
   ]
  },
  {
   "cell_type": "markdown",
   "id": "e63b9b1b-8fac-4e8d-b0c7-9636bc899b30",
   "metadata": {},
   "source": [
    "## Filtramos por las ciudades de interés"
   ]
  },
  {
   "cell_type": "code",
   "execution_count": 3,
   "id": "8928b114-fd9b-47c4-8f20-0ff33e465395",
   "metadata": {},
   "outputs": [],
   "source": [
    "ciudades = ['Adelaide', 'Canberra', 'Cobar', 'Dartmoor', 'Melbourne', 'MelbourneAirport', 'MountGambier', 'Sydney', 'SydneyAirport']\n",
    "df = df[df['Location'].isin(ciudades)]"
   ]
  },
  {
   "cell_type": "markdown",
   "id": "7ee2a3bc-596b-4d80-9ae9-b9fc350b4885",
   "metadata": {},
   "source": [
    "## Realizamos el split de entrenamiento y prueba"
   ]
  },
  {
   "cell_type": "code",
   "execution_count": 4,
   "id": "8ca846ca-e1a6-4190-a994-7129d6374784",
   "metadata": {},
   "outputs": [],
   "source": [
    "train, test = train_test_split(df, test_size = 0.20)"
   ]
  },
  {
   "cell_type": "markdown",
   "id": "6cb83657-20a4-4341-85e2-5f0fe6165928",
   "metadata": {},
   "source": [
    "## Análisis descriptivo\n",
    "\n",
    "Se realizará un análisis exploratorio del conjunto de datos de entrenamiento para entender sus características principales y determinar si se requiere alguna acción para abordar datos faltantes, valores atípicos, la codificación de variables categóricas u otros procesos antes de proceder."
   ]
  },
  {
   "cell_type": "code",
   "execution_count": 5,
   "id": "88ae449c-232d-48e2-9ace-ceb8ccbe5cdb",
   "metadata": {},
   "outputs": [
    {
     "data": {
      "text/plain": [
       "Index(['Unnamed: 0', 'Date', 'Location', 'MinTemp', 'MaxTemp', 'Rainfall',\n",
       "       'Evaporation', 'Sunshine', 'WindGustDir', 'WindGustSpeed', 'WindDir9am',\n",
       "       'WindDir3pm', 'WindSpeed9am', 'WindSpeed3pm', 'Humidity9am',\n",
       "       'Humidity3pm', 'Pressure9am', 'Pressure3pm', 'Cloud9am', 'Cloud3pm',\n",
       "       'Temp9am', 'Temp3pm', 'RainToday', 'RainTomorrow', 'RainfallTomorrow'],\n",
       "      dtype='object')"
      ]
     },
     "execution_count": 5,
     "metadata": {},
     "output_type": "execute_result"
    }
   ],
   "source": [
    "train.columns"
   ]
  },
  {
   "cell_type": "code",
   "execution_count": 6,
   "id": "34837b49-4c97-4d44-9d9f-268783138e0a",
   "metadata": {},
   "outputs": [
    {
     "data": {
      "text/html": [
       "<div>\n",
       "<style scoped>\n",
       "    .dataframe tbody tr th:only-of-type {\n",
       "        vertical-align: middle;\n",
       "    }\n",
       "\n",
       "    .dataframe tbody tr th {\n",
       "        vertical-align: top;\n",
       "    }\n",
       "\n",
       "    .dataframe thead th {\n",
       "        text-align: right;\n",
       "    }\n",
       "</style>\n",
       "<table border=\"1\" class=\"dataframe\">\n",
       "  <thead>\n",
       "    <tr style=\"text-align: right;\">\n",
       "      <th></th>\n",
       "      <th>Unnamed: 0</th>\n",
       "      <th>Date</th>\n",
       "      <th>Location</th>\n",
       "      <th>MinTemp</th>\n",
       "      <th>MaxTemp</th>\n",
       "      <th>Rainfall</th>\n",
       "      <th>Evaporation</th>\n",
       "      <th>Sunshine</th>\n",
       "      <th>WindGustDir</th>\n",
       "      <th>WindGustSpeed</th>\n",
       "      <th>...</th>\n",
       "      <th>Humidity3pm</th>\n",
       "      <th>Pressure9am</th>\n",
       "      <th>Pressure3pm</th>\n",
       "      <th>Cloud9am</th>\n",
       "      <th>Cloud3pm</th>\n",
       "      <th>Temp9am</th>\n",
       "      <th>Temp3pm</th>\n",
       "      <th>RainToday</th>\n",
       "      <th>RainTomorrow</th>\n",
       "      <th>RainfallTomorrow</th>\n",
       "    </tr>\n",
       "  </thead>\n",
       "  <tbody>\n",
       "    <tr>\n",
       "      <th>35667</th>\n",
       "      <td>35677</td>\n",
       "      <td>2015-02-25</td>\n",
       "      <td>SydneyAirport</td>\n",
       "      <td>19.7</td>\n",
       "      <td>23.6</td>\n",
       "      <td>0.0</td>\n",
       "      <td>6.6</td>\n",
       "      <td>9.1</td>\n",
       "      <td>S</td>\n",
       "      <td>50.0</td>\n",
       "      <td>...</td>\n",
       "      <td>85.0</td>\n",
       "      <td>1015.6</td>\n",
       "      <td>1015.2</td>\n",
       "      <td>7.0</td>\n",
       "      <td>7.0</td>\n",
       "      <td>21.3</td>\n",
       "      <td>20.8</td>\n",
       "      <td>No</td>\n",
       "      <td>Yes</td>\n",
       "      <td>11.4</td>\n",
       "    </tr>\n",
       "    <tr>\n",
       "      <th>98276</th>\n",
       "      <td>98307</td>\n",
       "      <td>2014-03-08</td>\n",
       "      <td>Adelaide</td>\n",
       "      <td>15.5</td>\n",
       "      <td>31.4</td>\n",
       "      <td>NaN</td>\n",
       "      <td>NaN</td>\n",
       "      <td>11.5</td>\n",
       "      <td>ESE</td>\n",
       "      <td>41.0</td>\n",
       "      <td>...</td>\n",
       "      <td>28.0</td>\n",
       "      <td>1020.3</td>\n",
       "      <td>1016.1</td>\n",
       "      <td>NaN</td>\n",
       "      <td>NaN</td>\n",
       "      <td>20.9</td>\n",
       "      <td>30.5</td>\n",
       "      <td>NaN</td>\n",
       "      <td>NaN</td>\n",
       "      <td>NaN</td>\n",
       "    </tr>\n",
       "    <tr>\n",
       "      <th>65427</th>\n",
       "      <td>65447</td>\n",
       "      <td>2012-07-10</td>\n",
       "      <td>MelbourneAirport</td>\n",
       "      <td>6.8</td>\n",
       "      <td>12.9</td>\n",
       "      <td>0.2</td>\n",
       "      <td>1.8</td>\n",
       "      <td>0.0</td>\n",
       "      <td>N</td>\n",
       "      <td>54.0</td>\n",
       "      <td>...</td>\n",
       "      <td>81.0</td>\n",
       "      <td>1017.8</td>\n",
       "      <td>1011.2</td>\n",
       "      <td>8.0</td>\n",
       "      <td>8.0</td>\n",
       "      <td>10.0</td>\n",
       "      <td>12.6</td>\n",
       "      <td>No</td>\n",
       "      <td>Yes</td>\n",
       "      <td>1.4</td>\n",
       "    </tr>\n",
       "    <tr>\n",
       "      <th>82425</th>\n",
       "      <td>82451</td>\n",
       "      <td>2013-03-23</td>\n",
       "      <td>Dartmoor</td>\n",
       "      <td>13.1</td>\n",
       "      <td>23.1</td>\n",
       "      <td>0.2</td>\n",
       "      <td>3.0</td>\n",
       "      <td>6.4</td>\n",
       "      <td>W</td>\n",
       "      <td>48.0</td>\n",
       "      <td>...</td>\n",
       "      <td>50.0</td>\n",
       "      <td>1014.8</td>\n",
       "      <td>1013.3</td>\n",
       "      <td>NaN</td>\n",
       "      <td>NaN</td>\n",
       "      <td>14.8</td>\n",
       "      <td>22.1</td>\n",
       "      <td>No</td>\n",
       "      <td>Yes</td>\n",
       "      <td>2.2</td>\n",
       "    </tr>\n",
       "    <tr>\n",
       "      <th>45803</th>\n",
       "      <td>45817</td>\n",
       "      <td>2008-06-18</td>\n",
       "      <td>Canberra</td>\n",
       "      <td>0.4</td>\n",
       "      <td>15.5</td>\n",
       "      <td>0.0</td>\n",
       "      <td>1.0</td>\n",
       "      <td>4.7</td>\n",
       "      <td>N</td>\n",
       "      <td>13.0</td>\n",
       "      <td>...</td>\n",
       "      <td>70.0</td>\n",
       "      <td>1026.7</td>\n",
       "      <td>1023.5</td>\n",
       "      <td>5.0</td>\n",
       "      <td>7.0</td>\n",
       "      <td>4.0</td>\n",
       "      <td>15.0</td>\n",
       "      <td>No</td>\n",
       "      <td>No</td>\n",
       "      <td>0.0</td>\n",
       "    </tr>\n",
       "  </tbody>\n",
       "</table>\n",
       "<p>5 rows × 25 columns</p>\n",
       "</div>"
      ],
      "text/plain": [
       "       Unnamed: 0        Date          Location  MinTemp  MaxTemp  Rainfall  \\\n",
       "35667       35677  2015-02-25     SydneyAirport     19.7     23.6       0.0   \n",
       "98276       98307  2014-03-08          Adelaide     15.5     31.4       NaN   \n",
       "65427       65447  2012-07-10  MelbourneAirport      6.8     12.9       0.2   \n",
       "82425       82451  2013-03-23          Dartmoor     13.1     23.1       0.2   \n",
       "45803       45817  2008-06-18          Canberra      0.4     15.5       0.0   \n",
       "\n",
       "       Evaporation  Sunshine WindGustDir  WindGustSpeed  ... Humidity3pm  \\\n",
       "35667          6.6       9.1           S           50.0  ...        85.0   \n",
       "98276          NaN      11.5         ESE           41.0  ...        28.0   \n",
       "65427          1.8       0.0           N           54.0  ...        81.0   \n",
       "82425          3.0       6.4           W           48.0  ...        50.0   \n",
       "45803          1.0       4.7           N           13.0  ...        70.0   \n",
       "\n",
       "      Pressure9am  Pressure3pm  Cloud9am  Cloud3pm  Temp9am  Temp3pm  \\\n",
       "35667      1015.6       1015.2       7.0       7.0     21.3     20.8   \n",
       "98276      1020.3       1016.1       NaN       NaN     20.9     30.5   \n",
       "65427      1017.8       1011.2       8.0       8.0     10.0     12.6   \n",
       "82425      1014.8       1013.3       NaN       NaN     14.8     22.1   \n",
       "45803      1026.7       1023.5       5.0       7.0      4.0     15.0   \n",
       "\n",
       "       RainToday  RainTomorrow  RainfallTomorrow  \n",
       "35667         No           Yes              11.4  \n",
       "98276        NaN           NaN               NaN  \n",
       "65427         No           Yes               1.4  \n",
       "82425         No           Yes               2.2  \n",
       "45803         No            No               0.0  \n",
       "\n",
       "[5 rows x 25 columns]"
      ]
     },
     "execution_count": 6,
     "metadata": {},
     "output_type": "execute_result"
    }
   ],
   "source": [
    "train.head()"
   ]
  },
  {
   "cell_type": "code",
   "execution_count": 7,
   "id": "ed9405a5-c396-41ef-a9d8-32b6fc753ede",
   "metadata": {},
   "outputs": [
    {
     "name": "stdout",
     "output_type": "stream",
     "text": [
      "<class 'pandas.core.frame.DataFrame'>\n",
      "Index: 22586 entries, 35667 to 33424\n",
      "Data columns (total 25 columns):\n",
      " #   Column            Non-Null Count  Dtype  \n",
      "---  ------            --------------  -----  \n",
      " 0   Unnamed: 0        22586 non-null  int64  \n",
      " 1   Date              22586 non-null  object \n",
      " 2   Location          22586 non-null  object \n",
      " 3   MinTemp           22123 non-null  float64\n",
      " 4   MaxTemp           22132 non-null  float64\n",
      " 5   Rainfall          21796 non-null  float64\n",
      " 6   Evaporation       19134 non-null  float64\n",
      " 7   Sunshine          17256 non-null  float64\n",
      " 8   WindGustDir       21264 non-null  object \n",
      " 9   WindGustSpeed     21266 non-null  float64\n",
      " 10  WindDir9am        21232 non-null  object \n",
      " 11  WindDir3pm        22231 non-null  object \n",
      " 12  WindSpeed9am      22298 non-null  float64\n",
      " 13  WindSpeed3pm      22309 non-null  float64\n",
      " 14  Humidity9am       21822 non-null  float64\n",
      " 15  Humidity3pm       21865 non-null  float64\n",
      " 16  Pressure9am       21908 non-null  float64\n",
      " 17  Pressure3pm       21919 non-null  float64\n",
      " 18  Cloud9am          15073 non-null  float64\n",
      " 19  Cloud3pm          14920 non-null  float64\n",
      " 20  Temp9am           22111 non-null  float64\n",
      " 21  Temp3pm           22117 non-null  float64\n",
      " 22  RainToday         21796 non-null  object \n",
      " 23  RainTomorrow      21792 non-null  object \n",
      " 24  RainfallTomorrow  21792 non-null  float64\n",
      "dtypes: float64(17), int64(1), object(7)\n",
      "memory usage: 4.5+ MB\n"
     ]
    },
    {
     "data": {
      "text/plain": [
       "Unnamed: 0             0\n",
       "Date                   0\n",
       "Location               0\n",
       "MinTemp              463\n",
       "MaxTemp              454\n",
       "Rainfall             790\n",
       "Evaporation         3452\n",
       "Sunshine            5330\n",
       "WindGustDir         1322\n",
       "WindGustSpeed       1320\n",
       "WindDir9am          1354\n",
       "WindDir3pm           355\n",
       "WindSpeed9am         288\n",
       "WindSpeed3pm         277\n",
       "Humidity9am          764\n",
       "Humidity3pm          721\n",
       "Pressure9am          678\n",
       "Pressure3pm          667\n",
       "Cloud9am            7513\n",
       "Cloud3pm            7666\n",
       "Temp9am              475\n",
       "Temp3pm              469\n",
       "RainToday            790\n",
       "RainTomorrow         794\n",
       "RainfallTomorrow     794\n",
       "dtype: int64"
      ]
     },
     "execution_count": 7,
     "metadata": {},
     "output_type": "execute_result"
    }
   ],
   "source": [
    "train.info()\n",
    "train.isna().sum()"
   ]
  },
  {
   "cell_type": "markdown",
   "id": "be6006fd-be46-4814-b48a-1b45470f22c7",
   "metadata": {},
   "source": [
    "### **Hay un total de 22586 datos de entrenamiento, 25 columnas y se puede observar que hay datos nulos en la mayoria de las variables.**"
   ]
  },
  {
   "cell_type": "markdown",
   "id": "2d4d465d-8e27-4f2f-a2b2-488d2e4ddb83",
   "metadata": {},
   "source": [
    "### Eliminamos la columna 'Unnamed: 0'"
   ]
  },
  {
   "cell_type": "code",
   "execution_count": 8,
   "id": "c3fb1ffd-9f0b-4b31-86b0-9564964a4ec6",
   "metadata": {},
   "outputs": [],
   "source": [
    "train = train.drop(columns=['Unnamed: 0'])"
   ]
  },
  {
   "cell_type": "markdown",
   "id": "fcf84609-33f6-42ea-82b3-4e8f66d3b9f7",
   "metadata": {},
   "source": [
    "### Convertimos a formato fecha la columna Date"
   ]
  },
  {
   "cell_type": "code",
   "execution_count": 9,
   "id": "252910ba-8953-41dd-b7fd-9884b38fc7d3",
   "metadata": {},
   "outputs": [],
   "source": [
    "train['Date'] = pd.to_datetime(train['Date'])"
   ]
  },
  {
   "cell_type": "code",
   "execution_count": 20,
   "id": "b78e18e2-cc0a-4ded-aba2-c1b8cfb1d1cf",
   "metadata": {},
   "outputs": [
    {
     "name": "stdout",
     "output_type": "stream",
     "text": [
      "             Date          Location  MinTemp  MaxTemp  Rainfall  Evaporation  \\\n",
      "45573  2007-11-01          Canberra      8.0     24.3       0.0          3.4   \n",
      "45574  2007-11-02          Canberra     14.0     26.9       3.6          4.4   \n",
      "45575  2007-11-03          Canberra     13.7     23.4       3.6          5.8   \n",
      "45576  2007-11-04          Canberra     13.3     15.5      39.8          7.2   \n",
      "45577  2007-11-05          Canberra      7.6     16.1       2.8          5.6   \n",
      "...           ...               ...      ...      ...       ...          ...   \n",
      "102519 2017-06-24      MountGambier      4.8     12.3       2.2          NaN   \n",
      "83979  2017-06-24          Dartmoor      6.2     11.8       3.0          NaN   \n",
      "99480  2017-06-24          Adelaide      5.0     17.3       0.0          NaN   \n",
      "67178  2017-06-24  MelbourneAirport      5.7     12.6       1.2          1.8   \n",
      "70370  2017-06-24         Melbourne      8.3     12.3       1.4          1.8   \n",
      "\n",
      "        Sunshine WindGustDir  WindGustSpeed WindDir9am  ... Humidity3pm  \\\n",
      "45573        6.3          NW           30.0         SW  ...        29.0   \n",
      "45574        9.7         ENE           39.0          E  ...        36.0   \n",
      "45575        3.3          NW           85.0          N  ...        69.0   \n",
      "45576        9.1          NW           54.0        WNW  ...        56.0   \n",
      "45577       10.6         SSE           50.0        SSE  ...        49.0   \n",
      "...          ...         ...            ...        ...  ...         ...   \n",
      "102519       5.6           W           28.0        NNW  ...        70.0   \n",
      "83979        5.6           W           20.0         NW  ...        70.0   \n",
      "99480        5.6           W           17.0        NaN  ...        54.0   \n",
      "67178        5.6          SW           33.0          W  ...        50.0   \n",
      "70370        5.6          SW           30.0        WNW  ...        63.0   \n",
      "\n",
      "        Pressure9am  Pressure3pm  Cloud9am  Cloud3pm  Temp9am  Temp3pm  \\\n",
      "45573        1019.7       1015.0       7.0       7.0     14.4     23.6   \n",
      "45574        1012.4       1008.4       5.0       3.0     17.5     25.7   \n",
      "45575        1009.5       1007.2       8.0       7.0     15.4     20.2   \n",
      "45576        1005.5       1007.0       2.0       7.0     13.5     14.1   \n",
      "45577        1018.3       1018.5       7.0       7.0     11.1     15.4   \n",
      "...             ...          ...       ...       ...      ...      ...   \n",
      "102519       1020.0       1018.0       5.0       8.0      8.2     11.5   \n",
      "83979        1019.8       1017.8       NaN       NaN      6.9     10.9   \n",
      "99480        1020.7       1018.5       NaN       NaN      9.6     16.7   \n",
      "67178        1018.9       1017.5       2.0       7.0      8.0     11.2   \n",
      "70370        1018.7       1017.4       2.0       7.0      9.6     11.2   \n",
      "\n",
      "        RainToday  RainTomorrow  RainfallTomorrow  \n",
      "45573          No           Yes               3.6  \n",
      "45574         Yes           Yes               3.6  \n",
      "45575         Yes           Yes              39.8  \n",
      "45576         Yes           Yes               2.8  \n",
      "45577         Yes            No               0.0  \n",
      "...           ...           ...               ...  \n",
      "102519        Yes            No               0.6  \n",
      "83979         Yes            No               0.2  \n",
      "99480          No            No               0.0  \n",
      "67178         Yes            No               0.0  \n",
      "70370         Yes            No               0.0  \n",
      "\n",
      "[22586 rows x 24 columns]\n"
     ]
    }
   ],
   "source": [
    "def rellenar_nulos(row):\n",
    "    fecha = row['Date']\n",
    "    valor = row['Sunshine']\n",
    "    \n",
    "    if pd.isnull(valor):\n",
    "        # Buscar otro registro con la misma fecha\n",
    "        mismo_dia = train[train['Date'] == fecha]\n",
    "        mismo_dia = mismo_dia.dropna(subset=['Sunshine'])  # Eliminar filas donde la columna_a_rellenar sea nula\n",
    "        \n",
    "        if len(mismo_dia) > 0:\n",
    "            # Tomar el valor de la columna_a_rellenar del primer registro con la misma fecha\n",
    "            return mismo_dia.iloc[0]['Sunshine']\n",
    "        else:\n",
    "            print('acaa')\n",
    "            return f\"No hay registros con la misma fecha {fecha}\"\n",
    "    else:\n",
    "        return valor\n",
    "            \n",
    "def rellenar_nulos_con_fecha_anterior(train, columna_a_rellenar):\n",
    "    \"\"\"\n",
    "    Rellena los valores nulos en la columna_a_rellenar con el valor correspondiente de otra fila que tenga la misma fecha.\n",
    "    Si no hay ningún otro registro con la misma fecha, retorna un mensaje indicando que no se pudo completar la operación.\n",
    "\n",
    "    Argumentos:\n",
    "    - df: DataFrame de pandas.\n",
    "    - columna_a_rellenar: Nombre de la columna que se rellenará si sus valores son nulos.\n",
    "\n",
    "    Retorna:\n",
    "    - DataFrame con los valores nulos rellenados.\n",
    "    \"\"\"\n",
    "    # Ordenar el DataFrame por la columna de fecha\n",
    "    train = train.sort_values(by='Date')\n",
    "    \n",
    "    # Aplicar la función a cada fila\n",
    "    train[columna_a_rellenar] = train.apply(rellenar_nulos, axis=1)\n",
    "    \n",
    "    return train\n",
    "\n",
    "\n",
    "df_resultado = rellenar_nulos_con_fecha_anterior(train, 'Sunshine')\n",
    "print(df_resultado)\n"
   ]
  },
  {
   "cell_type": "code",
   "execution_count": 22,
   "id": "aa1597a0-b60a-43f9-9f05-c0b0e984c991",
   "metadata": {},
   "outputs": [
    {
     "data": {
      "text/plain": [
       "Date                   0\n",
       "Location               0\n",
       "MinTemp              463\n",
       "MaxTemp              454\n",
       "Rainfall             790\n",
       "Evaporation         3452\n",
       "Sunshine               0\n",
       "WindGustDir         1322\n",
       "WindGustSpeed       1320\n",
       "WindDir9am          1354\n",
       "WindDir3pm           355\n",
       "WindSpeed9am         288\n",
       "WindSpeed3pm         277\n",
       "Humidity9am          764\n",
       "Humidity3pm          721\n",
       "Pressure9am          678\n",
       "Pressure3pm          667\n",
       "Cloud9am            7513\n",
       "Cloud3pm            7666\n",
       "Temp9am              475\n",
       "Temp3pm              469\n",
       "RainToday            790\n",
       "RainTomorrow         794\n",
       "RainfallTomorrow     794\n",
       "dtype: int64"
      ]
     },
     "execution_count": 22,
     "metadata": {},
     "output_type": "execute_result"
    }
   ],
   "source": [
    "df_resultado.isna().sum()"
   ]
  },
  {
   "cell_type": "code",
   "execution_count": null,
   "id": "1fe27193-b5b3-4a9f-8ef4-fbb245ea1de3",
   "metadata": {},
   "outputs": [],
   "source": []
  }
 ],
 "metadata": {
  "kernelspec": {
   "display_name": "Python 3 (ipykernel)",
   "language": "python",
   "name": "python3"
  },
  "language_info": {
   "codemirror_mode": {
    "name": "ipython",
    "version": 3
   },
   "file_extension": ".py",
   "mimetype": "text/x-python",
   "name": "python",
   "nbconvert_exporter": "python",
   "pygments_lexer": "ipython3",
   "version": "3.10.14"
  }
 },
 "nbformat": 4,
 "nbformat_minor": 5
}
